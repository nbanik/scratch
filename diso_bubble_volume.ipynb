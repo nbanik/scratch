{
 "cells": [
  {
   "cell_type": "code",
   "execution_count": 1,
   "metadata": {
    "collapsed": false,
    "deletable": true,
    "editable": true
   },
   "outputs": [],
   "source": [
    "import numpy as np\n",
    "import matplotlib.pyplot as plt\n",
    "import gzip\n",
    "from scipy.spatial import cKDTree as KDTree\n",
    "from numpy import linalg\n",
    "from scipy import spatial\n",
    "import os, os.path\n",
    "import glob\n",
    "\n",
    "h=0.6774\n",
    "\n",
    "def Rs(z):\n",
    "    return 59.6*((1.+30.)/(1+z))**2\n",
    "\n",
    "\n",
    "def boxvol(z):\n",
    "    return ((40.96*1000./h)/(1+z))**3\n",
    "\n",
    "def disovol(z,diso='Rs'):\n",
    "    if diso == 'Rs':\n",
    "        r=Rs(z)\n",
    "    else :\n",
    "        r=float(diso)\n",
    "       \n",
    "    return 4*np.pi*(r**3)/3.\n",
    "\n",
    "\n",
    "def volint(d,R):\n",
    "    return np.pi*((2*R - d)**2) * (d**2 + 4*d*R)/(12*d)\n",
    "        "
   ]
  },
  {
   "cell_type": "code",
   "execution_count": null,
   "metadata": {
    "collapsed": false,
    "deletable": true,
    "editable": true
   },
   "outputs": [],
   "source": [
    "xxyyzz=np.array([[1,2.,3.,4.],[2,2.,3.,4.],[3,2.,3.,4.]])\n",
    "\n",
    "volints=0.\n",
    "\n",
    "xyz_halos = xxyyzz[:,[1,2,3]].astype('float')\n",
    "    #xyz_halos=zip(x.ravel(),y.ravel(),z.ravel())\n",
    "k = spatial.KDTree(xyz_halos)\n",
    "ids = k.query_ball_point(xyz_halos, h*(1+10)*(2*0.1)) \n",
    "    \n",
    "for ii in range(len(ids)):\n",
    "        if len(ids[ii]) > 1 :\n",
    "            idss=[int(a) for a in ids[ii]]\n",
    "            d=[]\n",
    "            for jj in range(1,len(idss)):\n",
    "                \n",
    "                d = linalg.norm(xyz_halos[idss[0]] - xyz_halos[idss[jj]])\n",
    "                if d == 0. :\n",
    "                    volints += 4.*np.pi*((0.1)**3)/3.\n",
    "                    \n",
    "                else :\n",
    "                    volints+= volint(d,0.1)\n",
    "            "
   ]
  },
  {
   "cell_type": "code",
   "execution_count": null,
   "metadata": {
    "collapsed": false,
    "deletable": true,
    "editable": true
   },
   "outputs": [],
   "source": [
    "print volints, 3*4.*np.pi*((0.1)**3)/3."
   ]
  },
  {
   "cell_type": "code",
   "execution_count": 2,
   "metadata": {
    "collapsed": false,
    "deletable": true,
    "editable": true
   },
   "outputs": [],
   "source": [
    "rdsft = np.loadtxt('D:\\\\Google Drive\\\\gg\\\\alloutputs.txt')#[200:220]\n",
    "dir='D:\\\\Google Drive\\\\gg\\\\100kpc_halos\\\\cumulative\\\\'\n",
    "\n",
    "volints=np.zeros(len(rdsft))\n",
    "\n",
    "for zz in range(len(rdsft)) :\n",
    "    #print rdsft[zz]\n",
    "    cumu=np.loadtxt(dir + 'cum_100kpc_id-xyz-rdshft_{}.txt'.format(rdsft[zz]))\n",
    "    x=cumu[:,1]\n",
    "    y=cumu[:,2]\n",
    "    z=cumu[:,3]\n",
    "    \n",
    "    xyz_halos = cumu[:,[1,2,3]].astype('float')\n",
    "    #xyz_halos=zip(x.ravel(),y.ravel(),z.ravel())\n",
    "    k = spatial.KDTree(xyz_halos)\n",
    "    ids = k.query_ball_point(xyz_halos, h*(1+rdsft[zz])*(2*0.1)) \n",
    "    cc=0\n",
    "    for ii in range(len(ids)):\n",
    "        if len(ids[ii]) > 1 :\n",
    "            #print len(ids[ii])\n",
    "            idss=[int(a) for a in ids[ii]]\n",
    "            d=[]\n",
    "            for jj in range(1,len(idss)):\n",
    "                \n",
    "                d = linalg.norm(xyz_halos[idss[0]] - xyz_halos[idss[jj]])\n",
    "                if d == 0. :\n",
    "                    volints[zz] += 4.*np.pi*((h*(1+rdsft[zz])*0.1)**3)/3.\n",
    "                    \n",
    "                else :\n",
    "                    volints[zz ]+= volint(d,h*(1+rdsft[zz])*0.1)\n",
    "                    \n",
    "        elif len(ids[ii]) > 2 :\n",
    "            idss2=[int(a) for a in ids[ii]]\n",
    "            for kk in range(1,len(idss2)):\n",
    "                d = linalg.norm(xyz_halos[idss[0]] - xyz_halos[idss[kk]])\n",
    "            #print len(ids[ii])\n",
    "            \n"
   ]
  },
  {
   "cell_type": "code",
   "execution_count": null,
   "metadata": {
    "collapsed": false,
    "deletable": true,
    "editable": true
   },
   "outputs": [],
   "source": [
    "print volints"
   ]
  },
  {
   "cell_type": "code",
   "execution_count": null,
   "metadata": {
    "collapsed": false,
    "deletable": true,
    "editable": true
   },
   "outputs": [],
   "source": [
    "print len(ids[6])"
   ]
  },
  {
   "cell_type": "code",
   "execution_count": null,
   "metadata": {
    "collapsed": false,
    "deletable": true,
    "editable": true
   },
   "outputs": [],
   "source": [
    "def volint(d,R):\n",
    "    return np.pi*(2*R - d)**2 * (d**2 + 4*d*r)/(12*d)"
   ]
  },
  {
   "cell_type": "code",
   "execution_count": 3,
   "metadata": {
    "collapsed": false,
    "deletable": true,
    "editable": true
   },
   "outputs": [],
   "source": [
    "dir1='D:\\\\Google Drive\\\\gg\\\\100kpc_halos\\\\deadalive\\\\'\n",
    "dat=np.loadtxt(dir1 + 'cumulative.txt')\n",
    "\n",
    "total=dat[:,1]\n",
    "remnant=dat[:,2]\n",
    "alive=dat[:,3]\n",
    "\n",
    "volfrac_all=[]\n",
    "volfrac_alive=[]\n",
    "volfrac_remnant=[]\n",
    "\n",
    "disoo='100'\n",
    "\n",
    "for i in range(len(rdsft)):\n",
    "    volfrac_all.append((total[i]*disovol(rdsft[i],diso=disoo)-volints[i])/boxvol(rdsft[i]))\n",
    "    volfrac_alive.append((alive[i]*disovol(rdsft[i],diso=disoo)-volints[i])/boxvol(rdsft[i]))\n",
    "    volfrac_remnant.append((remnant[i]*disovol(rdsft[i],diso=disoo)-volints[i])/boxvol(rdsft[i]))\n",
    "    \n"
   ]
  },
  {
   "cell_type": "code",
   "execution_count": 4,
   "metadata": {
    "collapsed": false
   },
   "outputs": [
    {
     "data": {
      "image/png": "[encoded data removed]",
      "text/plain": [
       "<matplotlib.figure.Figure at 0x7f37f60>"
      ]
     },
     "metadata": {},
     "output_type": "display_data"
    }
   ],
   "source": [
    "plt.figure(figsize=(12,10))\n",
    "plt.semilogy(rdsft, volfrac_all,label='all')\n",
    "plt.semilogy(rdsft[:-5], volfrac_alive[:-5],label='stars')\n",
    "plt.semilogy(rdsft, volfrac_remnant,label='remnant')\n",
    "plt.legend(loc='upper right',fontsize=18)\n",
    "plt.ylim(10**-5,3.)\n",
    "plt.xlabel('z',fontsize=18)\n",
    "plt.ylabel('vol fraction',fontsize=18)\n",
    "plt.text(20,2.,r'$d_{\\rm{iso}}$ = 100 kpc',fontsize=18)\n",
    "#plt.savefig('volfrac_100kpc.pdf',format='pdf',dpi=1000)\n",
    "plt.show()"
   ]
  },
  {
   "cell_type": "markdown",
   "metadata": {
    "collapsed": true,
    "deletable": true,
    "editable": true
   },
   "source": [
    "### define functions to compute optical depth\n"
   ]
  },
  {
   "cell_type": "code",
   "execution_count": 5,
   "metadata": {
    "collapsed": false
   },
   "outputs": [],
   "source": [
    "from scipy import interpolate\n",
    "\n",
    "volfrac_alive_0=volfrac_alive[:-6] + [0,0,0,0,0,0]\n",
    "\n",
    "Q_all=interpolate.InterpolatedUnivariateSpline(rdsft[::-1], volfrac_all[::-1])\n",
    "Q_alive=interpolate.InterpolatedUnivariateSpline(rdsft[::-1], volfrac_alive_0[::-1])\n",
    "Q_remnant=interpolate.InterpolatedUnivariateSpline(rdsft[::-1], volfrac_remnant[::-1])\n",
    "\n"
   ]
  },
  {
   "cell_type": "code",
   "execution_count": 9,
   "metadata": {
    "collapsed": false
   },
   "outputs": [
    {
     "name": "stdout",
     "output_type": "stream",
     "text": [
      "(2.5459335046509644, 1.4602667651671294e-06)\n"
     ]
    }
   ],
   "source": [
    "c=3*(10**10) #cm/s\n",
    "\n",
    "H0=67.74/(3.086*10**19) #in s^-1\n",
    "#print H0\n",
    "\n",
    "\n",
    "om_m=0.3089\n",
    "om_l=0.6911\n",
    "\n",
    "\n",
    "def H(z):\n",
    "    return H0*(om_m*((1+z)**3)+om_l)**(0.5)\n",
    "\n",
    "#mean H density : https://ned.ipac.caltech.edu/level5/Madau6/Madau1_1.html\n",
    "\n",
    "def nH(z):\n",
    "    return (1.38*10**(-7.))*(1+z)**3\n",
    "    \n",
    "\n",
    "sigmat=6.65*10**(-25.) #cm^2\n",
    "Y=0.24\n",
    "X=0.76\n",
    "\n",
    "def tau(z):\n",
    "    \n",
    "    if z > 3. :\n",
    "        return ((c*(1+z)**2)/H(z))*Q_alive(z)*sigmat*nH(z)*(1+(Y/(4*X)))\n",
    "    \n",
    "    elif z <= 3 :\n",
    "        return ((c*(1+z)**2)/H(z))*Q_alive(z)*sigmat*nH(z)*(1+(2.*Y)/(4.*X))\n",
    "        \n",
    "\n",
    "from scipy import integrate\n",
    "\n",
    "print integrate.quad(tau, 0, 21)\n",
    "\n",
    "\n",
    "\n"
   ]
  },
  {
   "cell_type": "code",
   "execution_count": null,
   "metadata": {
    "collapsed": true
   },
   "outputs": [],
   "source": []
  }
 ],
 "metadata": {
  "kernelspec": {
   "display_name": "Python 2",
   "language": "python",
   "name": "python2"
  },
  "language_info": {
   "codemirror_mode": {
    "name": "ipython",
    "version": 2
   },
   "file_extension": ".py",
   "mimetype": "text/x-python",
   "name": "python",
   "nbconvert_exporter": "python",
   "pygments_lexer": "ipython2",
   "version": "2.7.13"
  }
 },
 "nbformat": 4,
 "nbformat_minor": 2
}
